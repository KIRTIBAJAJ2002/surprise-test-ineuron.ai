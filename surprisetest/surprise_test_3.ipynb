{
  "nbformat": 4,
  "nbformat_minor": 0,
  "metadata": {
    "colab": {
      "provenance": []
    },
    "kernelspec": {
      "name": "python3",
      "display_name": "Python 3"
    },
    "language_info": {
      "name": "python"
    }
  },
  "cells": [
    {
      "cell_type": "code",
      "execution_count": 2,
      "metadata": {
        "colab": {
          "base_uri": "https://localhost:8080/"
        },
        "id": "ItqgSWkwQrJM",
        "outputId": "48cba0fa-a98e-4cc8-e161-4f7e62781493"
      },
      "outputs": [
        {
          "output_type": "stream",
          "name": "stdout",
          "text": [
            "3\n",
            "False\n",
            "2\n",
            "1\n",
            "True\n"
          ]
        }
      ],
      "source": [
        "class Stack:\n",
        "    def __init__(self):\n",
        "        self.items = []\n",
        "\n",
        "    def push(self, item):\n",
        "        self.items.append(item)\n",
        "\n",
        "    def pop(self):\n",
        "        if not self.is_empty():\n",
        "            return self.items.pop()\n",
        "        else:\n",
        "            raise IndexError(\"Stack is empty\")\n",
        "\n",
        "    def is_empty(self):\n",
        "        return len(self.items) == 0\n",
        "my_stack = Stack()\n",
        "my_stack.push(1)\n",
        "my_stack.push(2)\n",
        "my_stack.push(3)\n",
        "print(my_stack.pop())\n",
        "print(my_stack.is_empty())\n",
        "print(my_stack.pop())\n",
        "print(my_stack.pop())\n",
        "print(my_stack.is_empty())\n"
      ]
    },
    {
      "cell_type": "code",
      "source": [
        "class Queue:\n",
        "    def __init__(self):\n",
        "        self.items = []\n",
        "\n",
        "    def enqueue(self, item):\n",
        "        self.items.append(item)\n",
        "\n",
        "    def dequeue(self):\n",
        "        if not self.is_empty():\n",
        "            return self.items.pop(0)\n",
        "        else:\n",
        "            raise IndexError(\"Queue is empty\")\n",
        "\n",
        "    def is_empty(self):\n",
        "        return len(self.items) == 0\n",
        "my_queue = Queue()\n",
        "my_queue.enqueue(1)\n",
        "my_queue.enqueue(2)\n",
        "my_queue.enqueue(3)\n",
        "print(my_queue.dequeue())\n",
        "print(my_queue.is_empty())\n",
        "print(my_queue.dequeue())\n",
        "print(my_queue.dequeue())\n",
        "print(my_queue.is_empty())\n"
      ],
      "metadata": {
        "colab": {
          "base_uri": "https://localhost:8080/"
        },
        "id": "-Y8NvanXQsJj",
        "outputId": "e310ec50-ac51-4f9f-9197-9fe05840e848"
      },
      "execution_count": 3,
      "outputs": [
        {
          "output_type": "stream",
          "name": "stdout",
          "text": [
            "1\n",
            "False\n",
            "2\n",
            "3\n",
            "True\n"
          ]
        }
      ]
    },
    {
      "cell_type": "code",
      "source": [],
      "metadata": {
        "id": "pIrPdDVkRAUV"
      },
      "execution_count": null,
      "outputs": []
    }
  ]
}