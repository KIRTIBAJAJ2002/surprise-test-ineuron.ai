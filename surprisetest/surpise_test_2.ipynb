{
  "nbformat": 4,
  "nbformat_minor": 0,
  "metadata": {
    "colab": {
      "provenance": []
    },
    "kernelspec": {
      "name": "python3",
      "display_name": "Python 3"
    },
    "language_info": {
      "name": "python"
    }
  },
  "cells": [
    {
      "cell_type": "code",
      "execution_count": 2,
      "metadata": {
        "colab": {
          "base_uri": "https://localhost:8080/"
        },
        "id": "q7n78kVQSGfN",
        "outputId": "e66f4007-949f-4b34-c2a0-bf5ef7e07414"
      },
      "outputs": [
        {
          "output_type": "stream",
          "name": "stdout",
          "text": [
            "2\n"
          ]
        }
      ],
      "source": [
        "def mySqrt(x):\n",
        "    if x == 0:\n",
        "        return 0\n",
        "\n",
        "    left = 1\n",
        "    right = x\n",
        "\n",
        "    while left <= right:\n",
        "        mid = (left + right) // 2\n",
        "        if mid * mid == x:\n",
        "            return mid\n",
        "        elif mid * mid < x:\n",
        "            left = mid + 1\n",
        "        else:\n",
        "            right = mid - 1\n",
        "\n",
        "    return right\n",
        "x = 4\n",
        "result = mySqrt(x)\n",
        "print(result)"
      ]
    },
    {
      "cell_type": "code",
      "source": [
        "class ListNode:\n",
        "    def __init__(self, val=0, next=None):\n",
        "        self.val = val\n",
        "        self.next = next\n",
        "\n",
        "def addTwoNumbers(l1, l2):\n",
        "    dummy = ListNode()\n",
        "    curr = dummy\n",
        "    carry = 0\n",
        "\n",
        "    while l1 or l2:\n",
        "        x = l1.val if l1 else 0\n",
        "        y = l2.val if l2 else 0\n",
        "\n",
        "        _sum = x + y + carry\n",
        "        carry = _sum // 10\n",
        "        curr.next = ListNode(_sum % 10)\n",
        "\n",
        "        curr = curr.next\n",
        "        l1 = l1.next if l1 else None\n",
        "        l2 = l2.next if l2 else None\n",
        "\n",
        "    if carry:\n",
        "        curr.next = ListNode(carry)\n",
        "\n",
        "    return dummy.next\n",
        "l1 = ListNode(0)\n",
        "l2 = ListNode(0)\n",
        "\n",
        "result = addTwoNumbers(l1, l2)\n",
        "\n",
        "while result:\n",
        "    print(result.val, end=\" \")\n",
        "    result = result.next\n"
      ],
      "metadata": {
        "colab": {
          "base_uri": "https://localhost:8080/"
        },
        "id": "Zm8pHD3SWNFn",
        "outputId": "72f346a8-ef60-432f-863c-ac9157025cfa"
      },
      "execution_count": 3,
      "outputs": [
        {
          "output_type": "stream",
          "name": "stdout",
          "text": [
            "0 "
          ]
        }
      ]
    },
    {
      "cell_type": "code",
      "source": [],
      "metadata": {
        "id": "P8B7dnumXKEf"
      },
      "execution_count": null,
      "outputs": []
    }
  ]
}