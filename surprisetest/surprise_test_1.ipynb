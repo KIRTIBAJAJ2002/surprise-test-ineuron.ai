{
  "nbformat": 4,
  "nbformat_minor": 0,
  "metadata": {
    "colab": {
      "provenance": []
    },
    "kernelspec": {
      "name": "python3",
      "display_name": "Python 3"
    },
    "language_info": {
      "name": "python"
    }
  },
  "cells": [
    {
      "cell_type": "code",
      "execution_count": 1,
      "metadata": {
        "id": "HQgnVfGC4Ft_"
      },
      "outputs": [],
      "source": [
        "nums = [0,1,0,3,12]\n"
      ]
    },
    {
      "cell_type": "code",
      "source": [
        "def moveZeroes(nums):\n",
        "    zero_index = 0  \n",
        "    for i in range(len(nums)):\n",
        "        if nums[i] != 0: \n",
        "            nums[i], nums[zero_index] = nums[zero_index], nums[i]\n",
        "            zero_index += 1  \n",
        "nums1 = [0, 1, 0, 3, 12]\n",
        "moveZeroes(nums1)\n",
        "print(nums1)  \n",
        "\n",
        "\n"
      ],
      "metadata": {
        "colab": {
          "base_uri": "https://localhost:8080/"
        },
        "id": "e538tAlg4VMT",
        "outputId": "f18b6537-b5d9-41e6-a264-91ec00ece4d6"
      },
      "execution_count": 5,
      "outputs": [
        {
          "output_type": "stream",
          "name": "stdout",
          "text": [
            "[1, 3, 12, 0, 0]\n"
          ]
        }
      ]
    },
    {
      "cell_type": "code",
      "source": [
        "def firstUniqChar(s):\n",
        "    char_freq = {}  \n",
        "\n",
        "    \n",
        "    for char in s:\n",
        "        if char in char_freq:\n",
        "            char_freq[char] += 1\n",
        "        else:\n",
        "            char_freq[char] = 1\n",
        "\n",
        "   \n",
        "    for i in range(len(s)):\n",
        "        if char_freq[s[i]] == 1:\n",
        "            return i\n",
        "\n",
        "    return -1  \n",
        "\n",
        "s1 = \"leetcode\"\n",
        "print(firstUniqChar(s1)) \n",
        "\n",
        "s2 = \"loveleetcode\"\n",
        "print(firstUniqChar(s2))  \n",
        "\n",
        "s3 = \"aabb\"\n",
        "print(firstUniqChar(s3))  \n"
      ],
      "metadata": {
        "colab": {
          "base_uri": "https://localhost:8080/"
        },
        "id": "Rdrx2zdD6U7N",
        "outputId": "87673a9e-56e6-466e-dbf4-c37c8050b321"
      },
      "execution_count": 8,
      "outputs": [
        {
          "output_type": "stream",
          "name": "stdout",
          "text": [
            "0\n",
            "2\n",
            "-1\n"
          ]
        }
      ]
    },
    {
      "cell_type": "code",
      "source": [
        "\n"
      ],
      "metadata": {
        "id": "7Xjrvk0Y-D3b"
      },
      "execution_count": null,
      "outputs": []
    }
  ]
}